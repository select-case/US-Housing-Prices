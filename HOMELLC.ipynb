{
  "cells": [
    {
      "cell_type": "markdown",
      "metadata": {
        "id": "d6ARZqd_hU9D"
      },
      "source": [
        "### Factors Affecting House Prices\n",
        "\n",
        "The factors affecting the prices of property could be broadly classified into Macro-Economic Factors, Govt Policies, Bank Policies and properties of individual properties.\n",
        "\n",
        "\n",
        "\n",
        "#### 1. Individual Properites\n",
        "\n",
        "As we are trying to predict the overall prices most properties of individual houses such as location crime rate in a location would not matter or shall not play that significant a role on the overall. But some other properties such as the average area of the house increasing over a long time could lead to a rise in property prices\n",
        "\n",
        "Median House Size - https://fred.stlouisfed.org/series/MEDSQUFEEUS - Data only available since 2016\n",
        "\n",
        "\n",
        "#### 2. Macro-economic Factors\n",
        "\n",
        "1. PerCapita GDP - https://fred.stlouisfed.org/series/GDP\n",
        "2. Unemployment - https://fred.stlouisfed.org/series/UNRATE\n",
        "3. Supply and Demand of houses - https://fred.stlouisfed.org/series/MSACSR\n",
        "4. Median Income - https://fred.stlouisfed.org/series/MEHOINUSA672N\n",
        "5. Performance of the stock market - https://fred.stlouisfed.org/series/SPASTT01USM657N\n",
        "6. Consumer Price Index - https://fred.stlouisfed.org/series/CPIAUCSL\n",
        "\n",
        "\n",
        "#### 3. Government Policies\n",
        "\n",
        "1. Property Taxes - https://fred.stlouisfed.org/series/S210401A027NBEA\n",
        "2. Intrest Rates - https://fred.stlouisfed.org/series/FEDFUNDS\n",
        "3. Subsidies - https://fred.stlouisfed.org/series/L312051A027NBEA\n",
        "\n",
        "#### 4. Bank Policies\n",
        "\n",
        "1. 30 Year Mortgage Rates - https://fred.stlouisfed.org/series/MORTGAGE30US\n",
        "2. Mortgage Availabilities"
      ]
    },
    {
      "cell_type": "code",
      "execution_count": 7,
      "metadata": {
        "id": "nMp0ImRo9zUd"
      },
      "outputs": [],
      "source": [
        "import pandas as pd"
      ]
    },
    {
      "cell_type": "code",
      "execution_count": 8,
      "metadata": {
        "id": "lguxV5-69wzT"
      },
      "outputs": [],
      "source": [
        "percapita_df = pd.read_csv('content/GDP PerCapita.csv', names = [\"DATE\", \"Per_Capita_GDP\"], skiprows = 1)\n",
        "unemployment_df = pd.read_csv('content/Unemployment.csv')\n",
        "supply_df = pd.read_csv('content/Monthly New Houses.csv')\n",
        "median_income_df = pd.read_csv('content/Median Income.csv')\n",
        "stocks_df = pd.read_csv('content/Market Performance.csv')\n",
        "cpi_df = pd.read_csv('content/Consumer Price Index.csv')\n",
        "taxes_df = pd.read_csv('content/Property Taxes.csv')\n",
        "intrest_df = pd.read_csv('content/Federal Intrest Rates.csv')\n",
        "subsidies_df = pd.read_csv('content/Housing Subsidies.csv')\n",
        "mortgage_df = pd.read_csv('content/MORTGAGE30US.csv')\n"
      ]
    },
    {
      "cell_type": "code",
      "execution_count": 9,
      "metadata": {
        "colab": {
          "base_uri": "https://localhost:8080/",
          "height": 424
        },
        "id": "TV1Kk2rvhU9G",
        "outputId": "9890648a-c674-4d3b-dc76-c4252be7667f"
      },
      "outputs": [
        {
          "data": {
            "text/html": [
              "<div>\n",
              "<style scoped>\n",
              "    .dataframe tbody tr th:only-of-type {\n",
              "        vertical-align: middle;\n",
              "    }\n",
              "\n",
              "    .dataframe tbody tr th {\n",
              "        vertical-align: top;\n",
              "    }\n",
              "\n",
              "    .dataframe thead th {\n",
              "        text-align: right;\n",
              "    }\n",
              "</style>\n",
              "<table border=\"1\" class=\"dataframe\">\n",
              "  <thead>\n",
              "    <tr style=\"text-align: right;\">\n",
              "      <th></th>\n",
              "      <th>DATE</th>\n",
              "      <th>CSUSHPISA</th>\n",
              "      <th>Year</th>\n",
              "      <th>Month</th>\n",
              "    </tr>\n",
              "  </thead>\n",
              "  <tbody>\n",
              "    <tr>\n",
              "      <th>0</th>\n",
              "      <td>2000-01-01</td>\n",
              "      <td>100.552</td>\n",
              "      <td>2000</td>\n",
              "      <td>1</td>\n",
              "    </tr>\n",
              "    <tr>\n",
              "      <th>1</th>\n",
              "      <td>2000-02-01</td>\n",
              "      <td>101.339</td>\n",
              "      <td>2000</td>\n",
              "      <td>2</td>\n",
              "    </tr>\n",
              "    <tr>\n",
              "      <th>2</th>\n",
              "      <td>2000-03-01</td>\n",
              "      <td>102.126</td>\n",
              "      <td>2000</td>\n",
              "      <td>3</td>\n",
              "    </tr>\n",
              "    <tr>\n",
              "      <th>3</th>\n",
              "      <td>2000-04-01</td>\n",
              "      <td>102.922</td>\n",
              "      <td>2000</td>\n",
              "      <td>4</td>\n",
              "    </tr>\n",
              "    <tr>\n",
              "      <th>4</th>\n",
              "      <td>2000-05-01</td>\n",
              "      <td>103.678</td>\n",
              "      <td>2000</td>\n",
              "      <td>5</td>\n",
              "    </tr>\n",
              "    <tr>\n",
              "      <th>...</th>\n",
              "      <td>...</td>\n",
              "      <td>...</td>\n",
              "      <td>...</td>\n",
              "      <td>...</td>\n",
              "    </tr>\n",
              "    <tr>\n",
              "      <th>285</th>\n",
              "      <td>2023-10-01</td>\n",
              "      <td>312.946</td>\n",
              "      <td>2023</td>\n",
              "      <td>10</td>\n",
              "    </tr>\n",
              "    <tr>\n",
              "      <th>286</th>\n",
              "      <td>2023-11-01</td>\n",
              "      <td>313.629</td>\n",
              "      <td>2023</td>\n",
              "      <td>11</td>\n",
              "    </tr>\n",
              "    <tr>\n",
              "      <th>287</th>\n",
              "      <td>2023-12-01</td>\n",
              "      <td>314.338</td>\n",
              "      <td>2023</td>\n",
              "      <td>12</td>\n",
              "    </tr>\n",
              "    <tr>\n",
              "      <th>288</th>\n",
              "      <td>2024-01-01</td>\n",
              "      <td>315.297</td>\n",
              "      <td>2024</td>\n",
              "      <td>1</td>\n",
              "    </tr>\n",
              "    <tr>\n",
              "      <th>289</th>\n",
              "      <td>2024-02-01</td>\n",
              "      <td>316.576</td>\n",
              "      <td>2024</td>\n",
              "      <td>2</td>\n",
              "    </tr>\n",
              "  </tbody>\n",
              "</table>\n",
              "<p>290 rows × 4 columns</p>\n",
              "</div>"
            ],
            "text/plain": [
              "          DATE  CSUSHPISA  Year  Month\n",
              "0   2000-01-01    100.552  2000      1\n",
              "1   2000-02-01    101.339  2000      2\n",
              "2   2000-03-01    102.126  2000      3\n",
              "3   2000-04-01    102.922  2000      4\n",
              "4   2000-05-01    103.678  2000      5\n",
              "..         ...        ...   ...    ...\n",
              "285 2023-10-01    312.946  2023     10\n",
              "286 2023-11-01    313.629  2023     11\n",
              "287 2023-12-01    314.338  2023     12\n",
              "288 2024-01-01    315.297  2024      1\n",
              "289 2024-02-01    316.576  2024      2\n",
              "\n",
              "[290 rows x 4 columns]"
            ]
          },
          "execution_count": 9,
          "metadata": {},
          "output_type": "execute_result"
        }
      ],
      "source": [
        "CS_df = pd.read_csv('content/CSUSHPISA.csv')\n",
        "\n",
        "CS_df[\"DATE\"] = pd.to_datetime(CS_df[\"DATE\"])\n",
        "\n",
        "data_after_2000 = CS_df[\"DATE\"] >= \"2000-01-01\"\n",
        "CS_df = CS_df[data_after_2000]\n",
        "\n",
        "\n",
        "CS_df.reset_index(inplace = True)\n",
        "CS_df.drop(columns = [\"index\"], inplace = True)\n",
        "\n",
        "CS_df[\"Year\"] = pd.DatetimeIndex(CS_df[\"DATE\"]).year\n",
        "CS_df[\"Month\"] = pd.DatetimeIndex(CS_df[\"DATE\"]).month\n",
        "\n",
        "CS_df"
      ]
    },
    {
      "cell_type": "markdown",
      "metadata": {
        "id": "mqgTrAE8uTtR"
      },
      "source": [
        "#### Merging all monthly data"
      ]
    },
    {
      "cell_type": "code",
      "execution_count": 10,
      "metadata": {
        "id": "LGzAknrzuTLt"
      },
      "outputs": [],
      "source": [
        "merged_df = pd.DataFrame()\n",
        "monthly_data = [CS_df, unemployment_df, supply_df, cpi_df, intrest_df,stocks_df,mortgage_df]\n",
        "merged_df[\"DATE\"] = CS_df[\"DATE\"]\n",
        "for data in monthly_data:\n",
        "  data[\"DATE\"] = pd.to_datetime(data[\"DATE\"])\n",
        "  merged_df = pd.merge(merged_df, data, on='DATE', how='inner')\n",
        "\n"
      ]
    },
    {
      "cell_type": "code",
      "execution_count": 11,
      "metadata": {
        "id": "Iv7SCf7RuPoN"
      },
      "outputs": [],
      "source": [
        "percapita_df['DATE'] = pd.to_datetime(percapita_df[\"DATE\"])\n",
        "merged_df = pd.merge(merged_df,percapita_df, how = \"left\")\n",
        "merged_df[\"Per_Capita_GDP\"] = merged_df[\"Per_Capita_GDP\"].interpolate()"
      ]
    },
    {
      "cell_type": "code",
      "execution_count": 12,
      "metadata": {
        "colab": {
          "base_uri": "https://localhost:8080/",
          "height": 617
        },
        "id": "1fwfglEgkkzV",
        "outputId": "e0d39913-a1b6-4f6d-f7ce-6309d0ceb2c7"
      },
      "outputs": [
        {
          "data": {
            "text/html": [
              "<div>\n",
              "<style scoped>\n",
              "    .dataframe tbody tr th:only-of-type {\n",
              "        vertical-align: middle;\n",
              "    }\n",
              "\n",
              "    .dataframe tbody tr th {\n",
              "        vertical-align: top;\n",
              "    }\n",
              "\n",
              "    .dataframe thead th {\n",
              "        text-align: right;\n",
              "    }\n",
              "</style>\n",
              "<table border=\"1\" class=\"dataframe\">\n",
              "  <thead>\n",
              "    <tr style=\"text-align: right;\">\n",
              "      <th></th>\n",
              "      <th>DATE</th>\n",
              "      <th>CSUSHPISA</th>\n",
              "      <th>Year</th>\n",
              "      <th>Month</th>\n",
              "      <th>UNRATE</th>\n",
              "      <th>MSACSR</th>\n",
              "      <th>CPIAUCSL</th>\n",
              "      <th>FEDFUNDS</th>\n",
              "      <th>SPASTT01USM657N</th>\n",
              "      <th>MORTGAGE30US</th>\n",
              "      <th>Per_Capita_GDP</th>\n",
              "    </tr>\n",
              "  </thead>\n",
              "  <tbody>\n",
              "    <tr>\n",
              "      <th>0</th>\n",
              "      <td>2000-01-01</td>\n",
              "      <td>100.552</td>\n",
              "      <td>2000</td>\n",
              "      <td>1</td>\n",
              "      <td>4.0</td>\n",
              "      <td>4.3</td>\n",
              "      <td>169.300</td>\n",
              "      <td>5.45</td>\n",
              "      <td>-0.526490</td>\n",
              "      <td>8.2100</td>\n",
              "      <td>49335.000000</td>\n",
              "    </tr>\n",
              "    <tr>\n",
              "      <th>1</th>\n",
              "      <td>2000-02-01</td>\n",
              "      <td>101.339</td>\n",
              "      <td>2000</td>\n",
              "      <td>2</td>\n",
              "      <td>4.1</td>\n",
              "      <td>4.3</td>\n",
              "      <td>170.000</td>\n",
              "      <td>5.73</td>\n",
              "      <td>-4.680037</td>\n",
              "      <td>8.3250</td>\n",
              "      <td>49593.000000</td>\n",
              "    </tr>\n",
              "    <tr>\n",
              "      <th>2</th>\n",
              "      <td>2000-03-01</td>\n",
              "      <td>102.126</td>\n",
              "      <td>2000</td>\n",
              "      <td>3</td>\n",
              "      <td>4.0</td>\n",
              "      <td>4.3</td>\n",
              "      <td>171.000</td>\n",
              "      <td>5.85</td>\n",
              "      <td>2.838298</td>\n",
              "      <td>8.2400</td>\n",
              "      <td>49851.000000</td>\n",
              "    </tr>\n",
              "    <tr>\n",
              "      <th>3</th>\n",
              "      <td>2000-04-01</td>\n",
              "      <td>102.922</td>\n",
              "      <td>2000</td>\n",
              "      <td>4</td>\n",
              "      <td>3.8</td>\n",
              "      <td>4.4</td>\n",
              "      <td>170.900</td>\n",
              "      <td>6.02</td>\n",
              "      <td>3.884009</td>\n",
              "      <td>8.1525</td>\n",
              "      <td>50109.000000</td>\n",
              "    </tr>\n",
              "    <tr>\n",
              "      <th>4</th>\n",
              "      <td>2000-05-01</td>\n",
              "      <td>103.678</td>\n",
              "      <td>2000</td>\n",
              "      <td>5</td>\n",
              "      <td>4.0</td>\n",
              "      <td>4.4</td>\n",
              "      <td>171.200</td>\n",
              "      <td>6.27</td>\n",
              "      <td>-1.061978</td>\n",
              "      <td>8.5150</td>\n",
              "      <td>50080.666667</td>\n",
              "    </tr>\n",
              "    <tr>\n",
              "      <th>...</th>\n",
              "      <td>...</td>\n",
              "      <td>...</td>\n",
              "      <td>...</td>\n",
              "      <td>...</td>\n",
              "      <td>...</td>\n",
              "      <td>...</td>\n",
              "      <td>...</td>\n",
              "      <td>...</td>\n",
              "      <td>...</td>\n",
              "      <td>...</td>\n",
              "      <td>...</td>\n",
              "    </tr>\n",
              "    <tr>\n",
              "      <th>285</th>\n",
              "      <td>2023-10-01</td>\n",
              "      <td>312.946</td>\n",
              "      <td>2023</td>\n",
              "      <td>10</td>\n",
              "      <td>3.8</td>\n",
              "      <td>7.9</td>\n",
              "      <td>307.531</td>\n",
              "      <td>5.33</td>\n",
              "      <td>-4.121365</td>\n",
              "      <td>7.6200</td>\n",
              "      <td>67513.000000</td>\n",
              "    </tr>\n",
              "    <tr>\n",
              "      <th>286</th>\n",
              "      <td>2023-11-01</td>\n",
              "      <td>313.629</td>\n",
              "      <td>2023</td>\n",
              "      <td>11</td>\n",
              "      <td>3.7</td>\n",
              "      <td>8.8</td>\n",
              "      <td>308.024</td>\n",
              "      <td>5.33</td>\n",
              "      <td>3.364690</td>\n",
              "      <td>7.4420</td>\n",
              "      <td>67576.000000</td>\n",
              "    </tr>\n",
              "    <tr>\n",
              "      <th>287</th>\n",
              "      <td>2023-12-01</td>\n",
              "      <td>314.338</td>\n",
              "      <td>2023</td>\n",
              "      <td>12</td>\n",
              "      <td>3.7</td>\n",
              "      <td>8.2</td>\n",
              "      <td>308.742</td>\n",
              "      <td>5.33</td>\n",
              "      <td>5.603572</td>\n",
              "      <td>6.8150</td>\n",
              "      <td>67639.000000</td>\n",
              "    </tr>\n",
              "    <tr>\n",
              "      <th>288</th>\n",
              "      <td>2024-01-01</td>\n",
              "      <td>315.297</td>\n",
              "      <td>2024</td>\n",
              "      <td>1</td>\n",
              "      <td>3.7</td>\n",
              "      <td>8.3</td>\n",
              "      <td>309.685</td>\n",
              "      <td>5.33</td>\n",
              "      <td>1.614541</td>\n",
              "      <td>6.6425</td>\n",
              "      <td>67702.000000</td>\n",
              "    </tr>\n",
              "    <tr>\n",
              "      <th>289</th>\n",
              "      <td>2024-02-01</td>\n",
              "      <td>316.576</td>\n",
              "      <td>2024</td>\n",
              "      <td>2</td>\n",
              "      <td>3.9</td>\n",
              "      <td>8.9</td>\n",
              "      <td>311.054</td>\n",
              "      <td>5.33</td>\n",
              "      <td>3.221516</td>\n",
              "      <td>6.7760</td>\n",
              "      <td>67702.000000</td>\n",
              "    </tr>\n",
              "  </tbody>\n",
              "</table>\n",
              "<p>290 rows × 11 columns</p>\n",
              "</div>"
            ],
            "text/plain": [
              "          DATE  CSUSHPISA  Year  Month  UNRATE  MSACSR  CPIAUCSL  FEDFUNDS  \\\n",
              "0   2000-01-01    100.552  2000      1     4.0     4.3   169.300      5.45   \n",
              "1   2000-02-01    101.339  2000      2     4.1     4.3   170.000      5.73   \n",
              "2   2000-03-01    102.126  2000      3     4.0     4.3   171.000      5.85   \n",
              "3   2000-04-01    102.922  2000      4     3.8     4.4   170.900      6.02   \n",
              "4   2000-05-01    103.678  2000      5     4.0     4.4   171.200      6.27   \n",
              "..         ...        ...   ...    ...     ...     ...       ...       ...   \n",
              "285 2023-10-01    312.946  2023     10     3.8     7.9   307.531      5.33   \n",
              "286 2023-11-01    313.629  2023     11     3.7     8.8   308.024      5.33   \n",
              "287 2023-12-01    314.338  2023     12     3.7     8.2   308.742      5.33   \n",
              "288 2024-01-01    315.297  2024      1     3.7     8.3   309.685      5.33   \n",
              "289 2024-02-01    316.576  2024      2     3.9     8.9   311.054      5.33   \n",
              "\n",
              "     SPASTT01USM657N  MORTGAGE30US  Per_Capita_GDP  \n",
              "0          -0.526490        8.2100    49335.000000  \n",
              "1          -4.680037        8.3250    49593.000000  \n",
              "2           2.838298        8.2400    49851.000000  \n",
              "3           3.884009        8.1525    50109.000000  \n",
              "4          -1.061978        8.5150    50080.666667  \n",
              "..               ...           ...             ...  \n",
              "285        -4.121365        7.6200    67513.000000  \n",
              "286         3.364690        7.4420    67576.000000  \n",
              "287         5.603572        6.8150    67639.000000  \n",
              "288         1.614541        6.6425    67702.000000  \n",
              "289         3.221516        6.7760    67702.000000  \n",
              "\n",
              "[290 rows x 11 columns]"
            ]
          },
          "execution_count": 12,
          "metadata": {},
          "output_type": "execute_result"
        }
      ],
      "source": [
        "merged_df"
      ]
    },
    {
      "cell_type": "code",
      "execution_count": 13,
      "metadata": {
        "id": "0O4h4K1WtlNN"
      },
      "outputs": [],
      "source": [
        "datas = [median_income_df,subsidies_df]\n",
        "for data in datas:\n",
        "    data[\"Year\"] = pd.DatetimeIndex(data[\"DATE\"]).year\n",
        "    data = data.drop(columns=['DATE'])\n",
        "    merged_df = pd.merge(merged_df, data, how = \"left\", on = \"Year\")\n"
      ]
    },
    {
      "cell_type": "code",
      "execution_count": 14,
      "metadata": {
        "id": "E0o5Y8iI6vIG"
      },
      "outputs": [],
      "source": [
        "df = merged_df.dropna()"
      ]
    },
    {
      "cell_type": "code",
      "execution_count": 15,
      "metadata": {
        "id": "O_bEAzGk7_AM"
      },
      "outputs": [],
      "source": [
        "df = df.set_index(\"DATE\")"
      ]
    },
    {
      "cell_type": "code",
      "execution_count": 16,
      "metadata": {
        "id": "QAZtv_Jj8WvW"
      },
      "outputs": [],
      "source": [
        "from sklearn.preprocessing import MinMaxScaler\n",
        "from sklearn.linear_model import LinearRegression\n",
        "from sklearn.model_selection import train_test_split\n",
        "from sklearn.metrics import r2_score"
      ]
    },
    {
      "cell_type": "code",
      "execution_count": 17,
      "metadata": {
        "id": "fFkbEW7o8b0U"
      },
      "outputs": [],
      "source": [
        "df.drop(columns = [\"Year\", \"Month\"], inplace = True)"
      ]
    },
    {
      "cell_type": "code",
      "execution_count": 18,
      "metadata": {
        "id": "9_bdSSXS8htZ"
      },
      "outputs": [],
      "source": [
        "y = df.pop(\"CSUSHPISA\")\n",
        "X = df"
      ]
    },
    {
      "cell_type": "code",
      "execution_count": 19,
      "metadata": {
        "id": "8N-H-Gzg9Kuc"
      },
      "outputs": [],
      "source": [
        "scalar = MinMaxScaler()\n",
        "X = scalar.fit_transform(X)\n",
        "\n",
        "X_train, X_test, y_train, y_test = train_test_split(X,y, test_size= 0.2, random_state= 42)"
      ]
    },
    {
      "cell_type": "code",
      "execution_count": 20,
      "metadata": {
        "id": "tDOW2fzj9OUQ"
      },
      "outputs": [],
      "source": [
        "model = LinearRegression()\n",
        "model.fit(X_train, y_train)\n",
        "pred = model.predict(X_test)\n",
        "score = r2_score(pred, y_test)"
      ]
    },
    {
      "cell_type": "code",
      "execution_count": 21,
      "metadata": {
        "colab": {
          "base_uri": "https://localhost:8080/"
        },
        "id": "uuUVI1ix9kR3",
        "outputId": "facc932a-5bdd-492d-d79b-62f1167a9f98"
      },
      "outputs": [
        {
          "name": "stdout",
          "output_type": "stream",
          "text": [
            "0.9299127972820801\n"
          ]
        }
      ],
      "source": [
        "print(score)"
      ]
    },
    {
      "cell_type": "code",
      "execution_count": 22,
      "metadata": {
        "colab": {
          "base_uri": "https://localhost:8080/"
        },
        "id": "ZVRSZ3a99tdk",
        "outputId": "14449faf-75e6-4c7e-85b1-2dc47c32995c"
      },
      "outputs": [
        {
          "data": {
            "text/plain": [
              "115.06276426287084"
            ]
          },
          "execution_count": 22,
          "metadata": {},
          "output_type": "execute_result"
        }
      ],
      "source": [
        "from sklearn.metrics import mean_squared_error\n",
        "\n",
        "score = mean_squared_error(pred,y_test)\n",
        "score"
      ]
    },
    {
      "cell_type": "code",
      "execution_count": 23,
      "metadata": {
        "colab": {
          "base_uri": "https://localhost:8080/"
        },
        "id": "ecbAHgpS-Rnt",
        "outputId": "0ffb4de4-da71-40e5-a608-f078612d8012"
      },
      "outputs": [
        {
          "data": {
            "text/plain": [
              "8.92195434301409"
            ]
          },
          "execution_count": 23,
          "metadata": {},
          "output_type": "execute_result"
        }
      ],
      "source": [
        "from sklearn.metrics import mean_absolute_error\n",
        "\n",
        "score = mean_absolute_error(pred,y_test)\n",
        "score"
      ]
    },
    {
      "cell_type": "code",
      "execution_count": 24,
      "metadata": {
        "colab": {
          "base_uri": "https://localhost:8080/"
        },
        "id": "K46lFL5S-Zve",
        "outputId": "5565f30f-18f2-4121-b67e-d42abd2b862b"
      },
      "outputs": [
        {
          "name": "stdout",
          "output_type": "stream",
          "text": [
            "The coefficient for UNRATE is 1.0810018510361155\n",
            "The coefficient for MSACSR is 0.18349428222120484\n",
            "The coefficient for CPIAUCSL is -148.02292367763243\n",
            "The coefficient for FEDFUNDS is -1.8201193030442813\n",
            "The coefficient for SPASTT01USM657N is -2.499907826897885\n",
            "The coefficient for MORTGAGE30US is 81.44765306635736\n",
            "The coefficient for Per_Capita_GDP is 182.35515726979628\n",
            "The coefficient for MEHOINUSA672N is -12.409870671812188\n",
            "The coefficient for L312051A027NBEA is 178.2744155997099\n"
          ]
        }
      ],
      "source": [
        "coefs = model.coef_\n",
        "cols = df.columns\n",
        "for i in range(len(coefs)):\n",
        "    print(f\"The coefficient for {cols[i]} is {coefs[i]}\")"
      ]
    },
    {
      "cell_type": "markdown",
      "metadata": {},
      "source": [
        "#### The high R2 score implies this model performs well and the model eplains the majority if the variability\n"
      ]
    },
    {
      "cell_type": "markdown",
      "metadata": {},
      "source": [
        "Linear Regression was used and many of the basic variables used were found in the following paper: Macroeconomic Factors Affecting Housing Prices: Take the United States as an Example - Xinying Ding"
      ]
    },
    {
      "cell_type": "markdown",
      "metadata": {},
      "source": []
    }
  ],
  "metadata": {
    "colab": {
      "provenance": []
    },
    "kernelspec": {
      "display_name": "base",
      "language": "python",
      "name": "python3"
    },
    "language_info": {
      "codemirror_mode": {
        "name": "ipython",
        "version": 3
      },
      "file_extension": ".py",
      "mimetype": "text/x-python",
      "name": "python",
      "nbconvert_exporter": "python",
      "pygments_lexer": "ipython3",
      "version": "3.11.8"
    }
  },
  "nbformat": 4,
  "nbformat_minor": 0
}
